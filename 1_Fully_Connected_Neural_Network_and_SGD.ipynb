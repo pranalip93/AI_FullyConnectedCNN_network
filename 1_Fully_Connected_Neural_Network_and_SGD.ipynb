{
  "nbformat": 4,
  "nbformat_minor": 0,
  "metadata": {
    "kernelspec": {
      "display_name": "Python 3",
      "language": "python",
      "name": "python3"
    },
    "language_info": {
      "codemirror_mode": {
        "name": "ipython",
        "version": 3
      },
      "file_extension": ".py",
      "mimetype": "text/x-python",
      "name": "python",
      "nbconvert_exporter": "python",
      "pygments_lexer": "ipython3",
      "version": "3.8.3"
    },
    "colab": {
      "provenance": [],
      "collapsed_sections": []
    }
  },
  "cells": [
    {
      "cell_type": "markdown",
      "metadata": {
        "id": "e3brsgM_WOZd"
      },
      "source": [
        "## In this notebook, you will implement a two-layer neural network model and stochastic gradient descent with momentum in numpy to classify CIFAR-10 images."
      ]
    },
    {
      "cell_type": "code",
      "metadata": {
        "id": "tMyjktItWOZg",
        "colab": {
          "base_uri": "https://localhost:8080/"
        },
        "outputId": "8d45a356-67b6-4da6-a403-aaf96f0fc02c"
      },
      "source": [
        "# load libraries\n",
        "import numpy as np\n",
        "import matplotlib.pyplot as plt\n",
        "\n",
        "import tensorflow as tf\n",
        "\n",
        "# load CIFAR-10 data\n",
        "(x_train, y_train), (x_test, y_test) = tf.keras.datasets.cifar10.load_data()\n",
        "\n",
        "# preprocess the data\n",
        "x_train = x_train.reshape(x_train.shape[0], -1).astype('float')\n",
        "x_test = x_test.reshape(x_test.shape[0], -1).astype('float')\n",
        "y_train = y_train.squeeze()\n",
        "y_test = y_test.squeeze()\n",
        "\n",
        "x_train = x_train - x_train.mean(axis=1, keepdims=True)\n",
        "x_train = x_train / x_train.std(axis=1, keepdims=True)\n",
        "x_test = x_test - x_test.mean(axis=1, keepdims=True)\n",
        "x_test = x_test / x_test.std(axis=1, keepdims=True)"
      ],
      "execution_count": null,
      "outputs": [
        {
          "output_type": "stream",
          "name": "stdout",
          "text": [
            "Downloading data from https://www.cs.toronto.edu/~kriz/cifar-10-python.tar.gz\n",
            "170500096/170498071 [==============================] - 4s 0us/step\n",
            "170508288/170498071 [==============================] - 4s 0us/step\n"
          ]
        }
      ]
    },
    {
      "cell_type": "markdown",
      "metadata": {
        "id": "vDDJ4YNpSVkP"
      },
      "source": [
        "# Implement the forward and backward function for a two-layer neural network"
      ]
    },
    {
      "cell_type": "code",
      "metadata": {
        "id": "VQal1IREWOZh"
      },
      "source": [
        "class FullyConnectedNet():\n",
        "  def __init__(self, hidden_dim, input_dim=3072, num_classes=10):\n",
        "    super(FullyConnectedNet, self).__init__()\n",
        "    self.params = {}\n",
        "    self.params['W1'] = np.random.randn(input_dim, hidden_dim)/np.sqrt(input_dim/2)\n",
        "    self.params['b1'] = np.zeros(hidden_dim)\n",
        "    self.params['W2'] = np.random.randn(hidden_dim, num_classes)/np.sqrt(hidden_dim/2)\n",
        "    self.params['b2'] = np.zeros(num_classes)\n",
        "    self.grads = {}\n",
        "    self.grads['W1'] = np.zeros_like(self.params['W1'])\n",
        "    self.grads['b1'] = np.zeros_like(self.params['b1'])\n",
        "    self.grads['W2'] = np.zeros_like(self.params['W2'])\n",
        "    self.grads['b2'] = np.zeros_like(self.params['b2'])\n",
        "        \n",
        "  def forward(self, x):\n",
        "    \"\"\"Forward pass: linear -- ReLU -- linear\n",
        "    \n",
        "    Arguments:\n",
        "        x: 2D numpy array of shape (batch_size, input_dim)\n",
        "        \n",
        "    Returns:\n",
        "        scores: 2D numpy array of shape (batch_size, num_classes)\n",
        "        cache: a tuple of numpy arrays, used for backward pass\n",
        "    \"\"\"\n",
        "    ############################Write your code in this block (20 points)#####################\n",
        "\n",
        "\n",
        "\n",
        "\n",
        "    \n",
        "    #################################End of your code#########################################\n",
        "    return scores, cache\n",
        "    \n",
        "  def backward(self, dscores, cache):\n",
        "    \"\"\"Backward pass\n",
        "    \n",
        "    Arguments:\n",
        "        dscores: 2D numpy array of shape (batch_size, num_classes)\n",
        "        cache: a tuple of numpy arrays saved from forward pass\n",
        "        \n",
        "    Returns:\n",
        "        no explicit variable returned\n",
        "        update self.grads['W1'], self.grads['b1'], self.grads['W2'], self.grads['b2']\n",
        "    \"\"\"\n",
        "    #############################Write your code in this block (30 points)######################\n",
        "\n",
        "\n",
        "\n",
        "\n",
        "    \n",
        "    ##################################End of your code##########################################\n",
        "    return"
      ],
      "execution_count": null,
      "outputs": []
    },
    {
      "cell_type": "code",
      "metadata": {
        "id": "Z4SZwmhDUAm4"
      },
      "source": [
        "# The Cross Entropy Loss has been implemented for you\n",
        "def cross_entropy_loss(scores, y, eps=1e-8):\n",
        "  \"\"\"Calculate cross entropy loss and its gradient with respect to scores\n",
        "  \n",
        "  Arguments:\n",
        "      scores: 2D numpy array of shape (batch_size, num_classes), predicted class scores\n",
        "      y: 1D numpy array of shape (batch_size,), true class labels (from 0 to num_classes-1)\n",
        "      \n",
        "  Returns:\n",
        "      loss: scalar\n",
        "      dscores: 2D numpy array of shape (batch_size, num_classes), loss's gradient with respect to scores\n",
        "      \n",
        "  \"\"\"\n",
        "  scores -= scores.max()\n",
        "  exp = np.exp(scores)\n",
        "  exp = np.maximum(exp, eps)\n",
        "  logits = - scores[range(scores.shape[0]), y] + np.log(exp.sum(axis=1))\n",
        "  loss = logits.mean()\n",
        "  dscores = np.zeros_like(scores)\n",
        "  dscores[range(scores.shape[0]), y] = -1\n",
        "  dscores += exp/exp.sum(axis=1, keepdims=True)\n",
        "  dscores /= scores.shape[0]\n",
        "  return loss, dscores"
      ],
      "execution_count": null,
      "outputs": []
    },
    {
      "cell_type": "markdown",
      "metadata": {
        "id": "l4f0QQaqUPYD"
      },
      "source": [
        "# Implement SGD with momentum\n",
        "Initialize $m^{(0)}=0$\n",
        "\n",
        "After $k$ steps, update $m^{(k+1)}$ and $\\theta^{(k+1)}$:\n",
        "$$m^{(k+1)}=\\beta \\cdot m^{(k)} + \\nabla_{\\theta} $$\n",
        "$$\\theta^{(k+1)}=\\theta^{(k)} - \\alpha \\cdot m^{(k+1)}$$\n",
        "If you want to have a deep understanding of SGD with momentum, I recommend [this article](https://distill.pub/2017/momentum)."
      ]
    },
    {
      "cell_type": "code",
      "metadata": {
        "id": "nS5BZP87UIco"
      },
      "source": [
        "class SGD():\n",
        "  def __init__(self, params, alpha, beta=0):\n",
        "    \"\"\"\n",
        "    Arguments:\n",
        "      params: a dictionary, with keys being variable names, and values numpy arrays\n",
        "      alpha: learning rate as shown in the formula in above text cell\n",
        "      beta: the momentum coefficient, as shown in the formula in the above text cell;\n",
        "        if beta = 0, then it becomes vallina SGD; Can you figure out why?\n",
        "    \"\"\"    \n",
        "    self.params = params\n",
        "    self.alpha = alpha\n",
        "    self.beta = beta\n",
        "    # Initially, set the momentum m = 0 for all parameters\n",
        "    self.momentum = {n: np.zeros_like(p) for n, p in self.params.items()}\n",
        "\n",
        "  def step(self, grads):\n",
        "    \"\"\"Perform gradient descent\n",
        "    Arguments:\n",
        "        grads: a dictionary, with the same keys as self.params, storing the corresponding gradients;\n",
        "               for example, grads['W1'] is the gradient with respect to self.params['W1']\n",
        "    Returns:\n",
        "        No explicit returns\n",
        "        Update self.params internally\n",
        "    \"\"\"\n",
        "    #Hint: self.params is a dictionary of parameters,\n",
        "    ###### use a for loop to iterate all the items from self.params,\n",
        "    ###### use the formula in the above text cell to update each parameter;\n",
        "    ###### Note self.momentum and grads are all dictionaries with the same keys as self.params\n",
        "    ##############################Write your code in this block (20 points)######################\n",
        "\n",
        "\n",
        "\n",
        "    \n",
        "    ###################################End of your code##########################################\n",
        "    return"
      ],
      "execution_count": null,
      "outputs": []
    },
    {
      "cell_type": "markdown",
      "metadata": {
        "id": "U4b07yQhWOZi"
      },
      "source": [
        "# Test your implementation using the following code"
      ]
    },
    {
      "cell_type": "code",
      "metadata": {
        "id": "WlYsyi7nWOZi"
      },
      "source": [
        "hidden_dim = 200\n",
        "model = FullyConnectedNet(hidden_dim=hidden_dim)"
      ],
      "execution_count": null,
      "outputs": []
    },
    {
      "cell_type": "code",
      "metadata": {
        "id": "A4h5pDB-WOZj",
        "colab": {
          "base_uri": "https://localhost:8080/"
        },
        "outputId": "a0f8cec1-42aa-414a-8bd6-57be4eeae128"
      },
      "source": [
        "y_pred, _ = model.forward(x_train)\n",
        "acc_train = np.mean(y_pred.argmax(axis=1) == y_train)\n",
        "y_pred, _ = model.forward(x_test)\n",
        "acc_test = np.mean(y_pred.argmax(axis=1) == y_test)\n",
        "print(f'Before training, training accuracy={acc_train}, test accuracy={acc_test}')"
      ],
      "execution_count": null,
      "outputs": [
        {
          "output_type": "stream",
          "name": "stdout",
          "text": [
            "Before training, training accuracy=0.07636, test accuracy=0.0786\n"
          ]
        }
      ]
    },
    {
      "cell_type": "code",
      "metadata": {
        "id": "7DPL2x5oWOZj"
      },
      "source": [
        "loss_history = []\n",
        "acc_train_history = []\n",
        "acc_val_history = []"
      ],
      "execution_count": null,
      "outputs": []
    },
    {
      "cell_type": "code",
      "metadata": {
        "id": "EvEm7nsyWOZk",
        "colab": {
          "base_uri": "https://localhost:8080/"
        },
        "outputId": "f200806e-b8d0-479d-84b1-f3b67fd16ace"
      },
      "source": [
        "num_iters = 2000\n",
        "batch_size = 500\n",
        "alpha = 1e-2\n",
        "beta = 0.9\n",
        "optimizer = SGD(model.params, alpha=alpha, beta=beta)\n",
        "print_every = num_iters//20\n",
        "for i in range(num_iters):\n",
        "    idx = np.random.choice(x_train.shape[0], batch_size)\n",
        "    x_batch = x_train[idx]\n",
        "    y_batch = y_train[idx]\n",
        "    scores, cache = model.forward(x_batch)\n",
        "    loss, dscores = cross_entropy_loss(scores, y_batch)\n",
        "    model.backward(dscores, cache)\n",
        "    optimizer.step(model.grads)\n",
        "    loss_history.append(loss.item())\n",
        "    acc_train = np.mean(scores.argmax(axis=1) == y_batch)\n",
        "    acc_train_history.append(acc_train.item())\n",
        "    # test accuracy\n",
        "    idx = np.random.choice(x_test.shape[0], batch_size)\n",
        "    x_batch = x_test[idx]\n",
        "    y_batch = y_test[idx]\n",
        "    scores, cache = model.forward(x_batch)\n",
        "    acc_val = np.mean(scores.argmax(axis=1) == y_batch)\n",
        "    acc_val_history.append(acc_val.item())\n",
        "    if i == 0 or i == num_iters-1 or (i+1)%print_every == 0:\n",
        "        print(f'{i+1} loss={loss}, acc_train={acc_train}, acc_val={acc_val}')"
      ],
      "execution_count": null,
      "outputs": [
        {
          "output_type": "stream",
          "name": "stdout",
          "text": [
            "1 loss=3.3509998098698044, acc_train=0.058, acc_val=0.086\n",
            "100 loss=1.7504365880336077, acc_train=0.424, acc_val=0.394\n",
            "200 loss=1.7023970063133742, acc_train=0.402, acc_val=0.388\n",
            "300 loss=1.7165458631906652, acc_train=0.412, acc_val=0.364\n",
            "400 loss=1.5705675184781749, acc_train=0.436, acc_val=0.396\n",
            "500 loss=1.6496755098973364, acc_train=0.432, acc_val=0.404\n",
            "600 loss=1.660103960312628, acc_train=0.444, acc_val=0.42\n",
            "700 loss=1.6393618655703845, acc_train=0.432, acc_val=0.396\n",
            "800 loss=1.54584041718648, acc_train=0.454, acc_val=0.356\n",
            "900 loss=1.6283353068488784, acc_train=0.406, acc_val=0.4\n",
            "1000 loss=1.5913434415090146, acc_train=0.48, acc_val=0.432\n",
            "1100 loss=1.621172169054676, acc_train=0.436, acc_val=0.422\n",
            "1200 loss=1.5633865744300428, acc_train=0.48, acc_val=0.444\n",
            "1300 loss=1.578248749933853, acc_train=0.42, acc_val=0.426\n",
            "1400 loss=1.5492583232018824, acc_train=0.45, acc_val=0.392\n",
            "1500 loss=1.6358196066121078, acc_train=0.448, acc_val=0.434\n",
            "1600 loss=1.5507208581274685, acc_train=0.478, acc_val=0.412\n",
            "1700 loss=1.5879875837229747, acc_train=0.468, acc_val=0.338\n",
            "1800 loss=1.6300565424291604, acc_train=0.422, acc_val=0.404\n",
            "1900 loss=1.625666781596469, acc_train=0.448, acc_val=0.388\n",
            "2000 loss=1.5664870602722236, acc_train=0.466, acc_val=0.4\n"
          ]
        }
      ]
    },
    {
      "cell_type": "code",
      "metadata": {
        "id": "_Q2yzUzDWOZk",
        "colab": {
          "base_uri": "https://localhost:8080/",
          "height": 541
        },
        "outputId": "02dddd52-482d-4c67-c9dc-8ab631275f18"
      },
      "source": [
        "plt.plot(loss_history)\n",
        "plt.xlabel('iteration')\n",
        "plt.ylabel('loss')\n",
        "plt.show()\n",
        "plt.plot(acc_train_history, 'b-', label='train')\n",
        "plt.plot(acc_val_history, 'g-', label='val')\n",
        "plt.xlabel('iteration')\n",
        "plt.ylabel('acc')\n",
        "plt.legend()\n",
        "plt.show()"
      ],
      "execution_count": null,
      "outputs": [
        {
          "output_type": "display_data",
          "data": {
            "image/png": "[encoded data removed]",
            "text/plain": [
              "<Figure size 432x288 with 1 Axes>"
            ]
          },
          "metadata": {
            "needs_background": "light"
          }
        },
        {
          "output_type": "display_data",
          "data": {
            "image/png": "[encoded data removed]",
            "text/plain": [
              "<Figure size 432x288 with 1 Axes>"
            ]
          },
          "metadata": {
            "needs_background": "light"
          }
        }
      ]
    },
    {
      "cell_type": "code",
      "metadata": {
        "id": "g7EV431gWOZl",
        "colab": {
          "base_uri": "https://localhost:8080/"
        },
        "outputId": "78295cbf-a3a7-4e43-c9a5-9552ba9daf7e"
      },
      "source": [
        "y_pred, _ = model.forward(x_train)\n",
        "acc_train = np.mean(y_pred.argmax(axis=1) == y_train)\n",
        "y_pred, _ = model.forward(x_test)\n",
        "acc_test = np.mean(y_pred.argmax(axis=1) == y_test)\n",
        "## You should achieve a test accuracy at least 0.4\n",
        "print(f'After training, training accuracy={acc_train}, test accuracy={acc_test}')"
      ],
      "execution_count": null,
      "outputs": [
        {
          "output_type": "stream",
          "name": "stdout",
          "text": [
            "After training, training accuracy=0.45026, test accuracy=0.4096\n"
          ]
        }
      ]
    },
    {
      "cell_type": "markdown",
      "metadata": {
        "id": "kMzSMdZzWOZl"
      },
      "source": [
        "# Try different hyperparameters: hidden_dim, lr, batch_size, num_iters, find one that can achieve the best test accuracy"
      ]
    },
    {
      "cell_type": "code",
      "metadata": {
        "id": "rFJ8iKnqWOZl",
        "colab": {
          "base_uri": "https://localhost:8080/",
          "height": 928
        },
        "outputId": "d8ab4cb4-9072-4aba-cb59-547acdc65b36"
      },
      "source": [
        "###############Modify these hyperparameters and find the best ones (20 points)##################\n",
        "###############You can write a loop to search for the best parameters if your want##############\n",
        "hidden_dim = 200\n",
        "alpha = 1e-2\n",
        "beta = 0\n",
        "batch_size = 400\n",
        "num_iters = 2000\n",
        "#################################################################################################\n",
        "\n",
        "model = FullyConnectedNet(hidden_dim=hidden_dim)\n",
        "optimizer = SGD(model.params, alpha=alpha, beta=beta)\n",
        "loss_history = []\n",
        "acc_train_history = []\n",
        "acc_val_history = []\n",
        "print_every = num_iters//20\n",
        "for i in range(num_iters):\n",
        "    idx = np.random.choice(x_train.shape[0], batch_size)\n",
        "    x_batch = x_train[idx]\n",
        "    y_batch = y_train[idx]\n",
        "    scores, cache = model.forward(x_batch)\n",
        "    loss, dscores = cross_entropy_loss(scores, y_batch)\n",
        "    model.backward(dscores, cache)\n",
        "    optimizer.step(model.grads)\n",
        "    loss_history.append(loss.item())\n",
        "    acc_train = np.mean(scores.argmax(axis=1) == y_batch)\n",
        "    acc_train_history.append(acc_train.item())\n",
        "    # test accuracy\n",
        "    idx = np.random.choice(x_test.shape[0], batch_size)\n",
        "    x_batch = x_test[idx]\n",
        "    y_batch = y_test[idx]\n",
        "    scores, cache = model.forward(x_batch)\n",
        "    acc_val = np.mean(scores.argmax(axis=1) == y_batch)\n",
        "    acc_val_history.append(acc_val.item())\n",
        "    if i == 0 or i == num_iters-1 or (i+1)%print_every == 0:\n",
        "        print(f'{i+1} loss={loss}, acc_train={acc_train}, acc_val={acc_val}')\n",
        "        \n",
        "plt.plot(loss_history)\n",
        "plt.xlabel('iteration')\n",
        "plt.ylabel('loss')\n",
        "plt.show()\n",
        "plt.plot(acc_train_history, 'b-', label='train')\n",
        "plt.plot(acc_val_history, 'g-', label='val')\n",
        "plt.xlabel('iteration')\n",
        "plt.ylabel('acc')\n",
        "plt.legend()\n",
        "plt.show()\n",
        "\n",
        "y_pred, _ = model.forward(x_train)\n",
        "acc_train = np.mean(y_pred.argmax(axis=1) == y_train)\n",
        "y_pred, _ = model.forward(x_test)\n",
        "acc_test = np.mean(y_pred.argmax(axis=1) == y_test)\n",
        "## You should achieve a test accuracy at least 0.4\n",
        "print(f'After training, training accuracy={acc_train}, test accuracy={acc_test}')"
      ],
      "execution_count": null,
      "outputs": [
        {
          "output_type": "stream",
          "name": "stdout",
          "text": [
            "1 loss=3.47417037964835, acc_train=0.075, acc_val=0.1725\n",
            "100 loss=1.995035432015747, acc_train=0.335, acc_val=0.33\n",
            "200 loss=1.8615467584286847, acc_train=0.3825, acc_val=0.3025\n",
            "300 loss=1.7528243950555522, acc_train=0.37, acc_val=0.3225\n",
            "400 loss=1.8197735781927642, acc_train=0.35, acc_val=0.3625\n",
            "500 loss=1.7226077931975856, acc_train=0.41, acc_val=0.355\n",
            "600 loss=1.6835865114911743, acc_train=0.415, acc_val=0.335\n",
            "700 loss=1.7798427495212195, acc_train=0.3775, acc_val=0.3375\n",
            "800 loss=1.689815071341373, acc_train=0.4075, acc_val=0.3575\n",
            "900 loss=1.6880398999455, acc_train=0.4, acc_val=0.4075\n",
            "1000 loss=1.7914577971543069, acc_train=0.3675, acc_val=0.41\n",
            "1100 loss=1.7342081439649166, acc_train=0.42, acc_val=0.42\n",
            "1200 loss=1.6339491686969096, acc_train=0.435, acc_val=0.3975\n",
            "1300 loss=1.6065376391449218, acc_train=0.44, acc_val=0.385\n",
            "1400 loss=1.7036661524550702, acc_train=0.4175, acc_val=0.38\n",
            "1500 loss=1.699153031330678, acc_train=0.4125, acc_val=0.3875\n",
            "1600 loss=1.625065957993018, acc_train=0.43, acc_val=0.3525\n",
            "1700 loss=1.665541983996731, acc_train=0.4475, acc_val=0.405\n",
            "1800 loss=1.6255183815455851, acc_train=0.4275, acc_val=0.39\n",
            "1900 loss=1.7073515491988533, acc_train=0.435, acc_val=0.425\n",
            "2000 loss=1.6930132470164654, acc_train=0.425, acc_val=0.36\n"
          ]
        },
        {
          "output_type": "display_data",
          "data": {
            "image/png": "[encoded data removed]",
            "text/plain": [
              "<Figure size 432x288 with 1 Axes>"
            ]
          },
          "metadata": {
            "needs_background": "light"
          }
        },
        {
          "output_type": "display_data",
          "data": {
            "image/png": "[encoded data removed]",
            "text/plain": [
              "<Figure size 432x288 with 1 Axes>"
            ]
          },
          "metadata": {
            "needs_background": "light"
          }
        },
        {
          "output_type": "stream",
          "name": "stdout",
          "text": [
            "After training, training accuracy=0.42994, test accuracy=0.3947\n"
          ]
        }
      ]
    }
  ]
}